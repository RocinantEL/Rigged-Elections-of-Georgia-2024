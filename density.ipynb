{
 "cells": [
  {
   "cell_type": "code",
   "execution_count": null,
   "id": "d3a6c3c0-edbc-4b65-b485-4fdbed1cb437",
   "metadata": {},
   "outputs": [],
   "source": [
    "import matplotlib.pyplot as plt\n",
    "import numpy as np\n",
    "from scipy.stats import gaussian_kde\n",
    "from matplotlib.ticker import PercentFormatter\n",
    "import pandas as pd\n",
    "from math import cos,sin,pi\n",
    "import matplotlib as mpl\n",
    "import seaborn as sns\n",
    "\n",
    "\n",
    "Data= pd.read_csv('Statistics of CESKO.csv')\n",
    "\n",
    "\n",
    "#Data is DataFrame with the relevant data\n",
    "x = Data['Perc Turnout']\n",
    "y = Data['GD Share of the turnout']\n",
    "sizes = Data['Turnout']  #Sizes based on turnout\n",
    "\n",
    "\n",
    "# Calculating the density of points\n",
    "xy = np.vstack([x, y])\n",
    "density = gaussian_kde(xy)(xy)\n",
    "\n",
    "\n",
    "# Normalizing the sizes with \"Min-max scaling\"\n",
    "sizes_normalized = (sizes-np.min(sizes))/(np.max(sizes)-np.min(sizes))*300 # 300 is arbitrary\n",
    "\n",
    "# Creating the scatter plot\n",
    "plt.figure(figsize=(12, 8), dpi=300)\n",
    "scatter = plt.scatter(\n",
    "    x, y, c=density, s=sizes_normalized, cmap='viridis', edgecolor='none', alpha=0.6\n",
    ")\n",
    "\n",
    "# Add a colorbar for density\n",
    "colorbar = plt.colorbar(scatter, label='Point Density')\n",
    "colorbar.set_label('Density')\n",
    "colorbar.set_ticks([])\n",
    "\n",
    "# Formating axes to show percentages\n",
    "plt.gca().xaxis.set_major_formatter(PercentFormatter(xmax=1))  # x-axis: Turnout as %\n",
    "plt.gca().yaxis.set_major_formatter(PercentFormatter(xmax=1))  # y-axis: GD Share as %\n",
    "\n",
    "# Setting plot title and labels\n",
    "plt.title('Scatter Plot', fontsize=14)\n",
    "plt.xlabel('Turnout as Percentage', fontsize=12)\n",
    "plt.ylabel('Georgian Dream Share of the Turnout (%)', fontsize=12)\n",
    "plt.grid(alpha=0.5)\n",
    "\n",
    "plt.tight_layout()\n",
    "plt.show()"
   ]
  }
 ],
 "metadata": {
  "kernelspec": {
   "display_name": "Python 3 (ipykernel)",
   "language": "python",
   "name": "python3"
  },
  "language_info": {
   "codemirror_mode": {
    "name": "ipython",
    "version": 3
   },
   "file_extension": ".py",
   "mimetype": "text/x-python",
   "name": "python",
   "nbconvert_exporter": "python",
   "pygments_lexer": "ipython3",
   "version": "3.11.3"
  }
 },
 "nbformat": 4,
 "nbformat_minor": 5
}
